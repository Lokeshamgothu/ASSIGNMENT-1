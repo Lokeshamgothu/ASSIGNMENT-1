{
  "nbformat": 4,
  "nbformat_minor": 0,
  "metadata": {
    "colab": {
      "name": "Assignment 1.ipynb",
      "provenance": [],
      "collapsed_sections": []
    },
    "kernelspec": {
      "name": "python3",
      "display_name": "Python 3"
    },
    "language_info": {
      "name": "python"
    }
  },
  "cells": [
    {
      "cell_type": "code",
      "metadata": {
        "id": "LtcFyaeYsmjW"
      },
      "source": [
        "#step1 Take two inputs\n",
        "#step2 And store in  variable x and y\n",
        "#step3 find x to the power y"
      ],
      "execution_count": null,
      "outputs": []
    },
    {
      "cell_type": "code",
      "metadata": {
        "colab": {
          "base_uri": "https://localhost:8080/"
        },
        "id": "3s8VO3r-tEP_",
        "outputId": "b9e9723f-0e23-414a-f919-b7eb34a6b87c"
      },
      "source": [
        "x = 5\n",
        "y = 10\n",
        "import math\n",
        "math.pow(x,y)"
      ],
      "execution_count": 1,
      "outputs": [
        {
          "output_type": "execute_result",
          "data": {
            "text/plain": [
              "9765625.0"
            ]
          },
          "metadata": {
            "tags": []
          },
          "execution_count": 1
        }
      ]
    }
  ]
}